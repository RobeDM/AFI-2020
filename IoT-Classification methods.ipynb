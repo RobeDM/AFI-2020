{
 "cells": [
  {
   "cell_type": "markdown",
   "metadata": {},
   "source": [
    "# **AFI Escuela de finanzas**\n",
    "\n",
    "![alt text](https://encrypted-tbn0.gstatic.com/images?q=tbn:ANd9GcTRsvzArVKQ5jGTVEqwdNneQFIgYVvjLPbYNvxAfFV_iktBaf9u&s)\n",
    "\n",
    "## **Máster Executive en Data Science y Big Data en Finanzas**\n",
    "\n",
    "**17 de Enero de 2020**\n",
    "\n",
    "# **IoT Use cases**\n",
    "\n",
    "\n"
   ]
  },
  {
   "cell_type": "markdown",
   "metadata": {},
   "source": [
    "# **Practical Session : Classification methods**\n",
    "\n",
    "Starting from a dataset of water consumption that you can find in dataset_eventos.csv.\n",
    "\n",
    "\n",
    "In this lab session we are going to deep in our knowledge about classifiers by managing most well-known classification algorithms. Besides, we are going to review some useful techniques, such as the cross validation process, which will allow us to adjust the free parameters of the classifier. \n",
    "\n",
    "#### ** During this lab we will cover: **\n",
    "\n",
    "#### * Part 1: Linear models*\n",
    "#### * Part 2: K-Nearest Neighbours (K-NN)*\n",
    "#### * Part 3: Support Vector Machines (SVMs) with different kernel funcions*\n",
    "#### * Part 4: Tree based algorithms*\n",
    "#### * Part 5: Neural Networks*\n",
    "\n",
    "\n",
    "As in previous lab session, to implement the different approaches we will base in [Scikit-Learn](http://scikit-learn.org/stable/) python toolbox.\n"
   ]
  },
  {
   "cell_type": "markdown",
   "metadata": {
    "collapsed": true
   },
   "source": [
    "### ** Part 0: Load and prepare the data **\n",
    "\n",
    "Thidataset consists of 6 classes of water consumption (tap, toilet, shower,...)\n",
    "    \n",
    "The next code includes the lines to download this data set and create the training and test data partitions, as well as normalize them.\n",
    "\n",
    "Useful functions: [make_classification( )](http://scikit-learn.org/stable/modules/generated/sklearn.datasets.make_classification.html), [train_test_split( )](http://scikit-learn.org/stable/modules/generated/sklearn.cross_validation.train_test_split.html) and [StandardScaler( )](http://scikit-learn.org/stable/modules/generated/sklearn.preprocessing.StandardScaler.html).\n"
   ]
  },
  {
   "cell_type": "code",
   "execution_count": 24,
   "metadata": {},
   "outputs": [],
   "source": [
    "%matplotlib inline\n",
    "import warnings\n",
    "warnings.filterwarnings('ignore')"
   ]
  },
  {
   "cell_type": "code",
   "execution_count": 25,
   "metadata": {},
   "outputs": [
    {
     "name": "stdout",
     "output_type": "stream",
     "text": [
      "The first time that you downlaod the data it can take a while...\n",
      "Dataset size information:\n",
      "n_features: 37\n",
      "n_classes: 6\n",
      "Number of training samples: 7688\n",
      "Number of test samples: 3296\n"
     ]
    }
   ],
   "source": [
    "import numpy as np\n",
    "from sklearn.model_selection import train_test_split\n",
    "from sklearn.preprocessing import label_binarize\n",
    "from sklearn.preprocessing import StandardScaler\n",
    "\n",
    "from sklearn import preprocessing\n",
    "\n",
    "np.random.seed(12)\n",
    "\n",
    "def ReadEvents(file):\n",
    "    data = np.loadtxt(file,skiprows=1,delimiter=';',usecols=range(0,37))\n",
    "    labels = np.loadtxt(file,skiprows=1,delimiter=';',usecols=(37,),dtype='str')\n",
    "    (nSamples,nFeatures)=data.shape\n",
    "    randomPermutation = np.random.permutation(nSamples)\n",
    "    data=data[randomPermutation,:]\n",
    "    labels=labels[randomPermutation]\n",
    "    le = preprocessing.LabelEncoder()\n",
    "    le.fit(np.unique(labels))\n",
    "    labels = le.transform(labels)\n",
    "    return data,labels\n",
    "    \n",
    "\n",
    "###############################################################################\n",
    "# Download the data, if not already on disk and load it as numpy arrays\n",
    "print('The first time that you downlaod the data it can take a while...')\n",
    "import numpy as np\n",
    "#dataset = np.loadtxt('./dataPrepared.csv', delimiter=',',skiprows=1)\n",
    "#X = dataset[:,:-1]\n",
    "#Y=dataset[:,-1]\n",
    "X,Y = ReadEvents('./dataset_eventos.csv')\n",
    "\n",
    "# for machine learning we use the data directly (as relative pixel\n",
    "# positions info is ignored by this model)\n",
    "n_features = X.shape[1]\n",
    "\n",
    "# the label to predict is the id of the person\n",
    "n_classes = np.unique(Y).shape[0]\n",
    "\n",
    "print(\"Dataset size information:\")\n",
    "print(\"n_features: %d\" % n_features)\n",
    "print(\"n_classes: %d\" % n_classes)\n",
    "\n",
    "\n",
    "###############################################################################\n",
    "# Preparing the data\n",
    "\n",
    "# Initialize the random generator seed to compare results\n",
    "np.random.seed(1)\n",
    "\n",
    "# Split into a training set and a test set using a stratified k fold\n",
    "\n",
    "# split into a training and testing set\n",
    "X_train, X_test, Y_train, Y_test = train_test_split(X, Y, test_size=0.3)\n",
    "\n",
    "# Normalizing the data\n",
    "scaler = StandardScaler()\n",
    "X_train = scaler.fit_transform(X_train)\n",
    "X_test = scaler.transform(X_test)\n",
    "\n",
    "# Binarize the labels for some feature selection methods\n",
    "set_classes = np.unique(Y)\n",
    "Y_train_bin = label_binarize(Y_train, classes=set_classes)\n",
    "\n",
    "print(\"Number of training samples: %d\" % X_train.shape[0])\n",
    "print(\"Number of test samples: %d\" % X_test.shape[0])"
   ]
  },
  {
   "cell_type": "markdown",
   "metadata": {},
   "source": [
    "### ** Part 1: Linear models**\n",
    "\n",
    "Include the necessary code to train and test a classifier based in:\n",
    "1. A logistic regression model: in thiscase adjust the C parameter by CV\n",
    "2. Linear Discrimation Analysis \n",
    "\n"
   ]
  },
  {
   "cell_type": "code",
   "execution_count": 26,
   "metadata": {},
   "outputs": [
    {
     "name": "stdout",
     "output_type": "stream",
     "text": [
      "The test accuracy of LR is 65.20\n",
      "The test accuracy of LDA is 61.68\n"
     ]
    }
   ],
   "source": [
    "###########################################################\n",
    "# TODO: Replace <FILL IN> with appropriate code\n",
    "###########################################################\n",
    "\n",
    "# Logistic regression\n",
    "from sklearn.model_selection import GridSearchCV\n",
    "\n",
    "from sklearn.linear_model import LogisticRegression\n",
    "import warnings\n",
    "warnings.filterwarnings(\"ignore\")\n",
    "\n",
    "rang_C = np.logspace(-3, 3, 10)\n",
    "tuned_parameters = [{'C': rang_C}]\n",
    "nfold = 10\n",
    "\n",
    "# Train a LR model and adjust by CV the parameter C\n",
    "clf_LR  = GridSearchCV(LogisticRegression(),\n",
    "                   tuned_parameters, cv=nfold)\n",
    "clf_LR.fit(X_train, Y_train)# <FILL IN> \n",
    "acc_test_LR=clf_LR.score(X_test,Y_test)# <FILL IN> \n",
    "\n",
    "# LDA \n",
    "from sklearn.discriminant_analysis import LinearDiscriminantAnalysis as LDA\n",
    "clf_LDA = LDA()\n",
    "clf_LDA.fit(X_train,Y_train)# <FILL IN> \n",
    "acc_test_LDA=clf_LDA.score(X_test,Y_test)# <FILL IN> \n",
    "\n",
    "print(\"The test accuracy of LR is %2.2f\" %(100*acc_test_LR))\n",
    "print(\"The test accuracy of LDA is %2.2f\" %(100*acc_test_LDA))"
   ]
  },
  {
   "cell_type": "markdown",
   "metadata": {},
   "source": [
    "## ** Part 2: K nearest neigbors**\n",
    "\n",
    "A K-NN approach classifies each new data searching its K nearest neighbors (among the training data) and assigning the majority class among these neighbors. As expected, its performance depends on the number of neighbors (K) used.\n",
    "\n",
    "To start to work, let's analyze for different values of K the K-NN performance, both over training and test sets. Use the [KNeighborsClassifier()](http://scikit-learn.org/stable/modules/generated/sklearn.neighbors.KNeighborsClassifier.html) method to complete the below code.\n"
   ]
  },
  {
   "cell_type": "markdown",
   "metadata": {},
   "source": [
    "This figure points out the necessity of selecting the adequate value of K. And, as expected, using the training error for such selection would provide a poor generalization.\n",
    "\n",
    "#### ** Selecting the number of neighbors of a K-NN classifier**\n",
    "\n",
    "Therefore, next step will consist of applying a cross validation (CV) process to select the optimum value of K. You can use the [GridSearchCV( )](http://scikit-learn.org/stable/modules/generated/sklearn.grid_search.GridSearchCV.html) function to implement it. "
   ]
  },
  {
   "cell_type": "code",
   "execution_count": 27,
   "metadata": {},
   "outputs": [
    {
     "name": "stdout",
     "output_type": "stream",
     "text": [
      "CV process sucessfully finished\n"
     ]
    }
   ],
   "source": [
    "###########################################################\n",
    "# TODO: Replace <FILL IN> with appropriate code\n",
    "###########################################################\n",
    "\n",
    "from sklearn import neighbors\n",
    "from sklearn.model_selection import GridSearchCV\n",
    "\n",
    "# Parameters\n",
    "K_max = 50\n",
    "rang_K = np.arange(1, K_max+1)\n",
    "nfold = 10\n",
    "# Define a dictionary with the name of the parameters to explore as a key and the ranges to explores as value\n",
    "tuned_parameters = [{'n_neighbors': rang_K}]\n",
    "\n",
    "\n",
    "# Cross validation proccess \n",
    "clf_base = neighbors.KNeighborsClassifier( )\n",
    "# Define the classfifier with the CV process (use GridSearchCV here!!!)\n",
    "clf =  GridSearchCV(clf_base, tuned_parameters, cv = nfold, scoring = 'accuracy')#<FILL IN>\n",
    "# Train it (this executes the CV)\n",
    "clf.fit(X_train,Y_train)#<FILL IN>\n",
    "\n",
    "print('CV process sucessfully finished')"
   ]
  },
  {
   "cell_type": "markdown",
   "metadata": {},
   "source": [
    "After running the CV process, the classifier object  contains the information of the CV process (next cell explore the parameter \".grid\\_scores\\_\" to obtain this information)."
   ]
  },
  {
   "cell_type": "code",
   "execution_count": 28,
   "metadata": {},
   "outputs": [
    {
     "name": "stdout",
     "output_type": "stream",
     "text": [
      "Cross validation results:\n",
      "For K = 1, validation accuracy is 60.67 (+/-0.735)%\n",
      "For K = 2, validation accuracy is 59.60 (+/-0.940)%\n",
      "For K = 3, validation accuracy is 62.21 (+/-0.698)%\n",
      "For K = 4, validation accuracy is 63.22 (+/-0.841)%\n",
      "For K = 5, validation accuracy is 64.01 (+/-0.820)%\n",
      "For K = 6, validation accuracy is 63.84 (+/-0.844)%\n",
      "For K = 7, validation accuracy is 64.10 (+/-0.582)%\n",
      "For K = 8, validation accuracy is 64.44 (+/-0.719)%\n",
      "For K = 9, validation accuracy is 64.23 (+/-0.738)%\n",
      "For K = 10, validation accuracy is 64.59 (+/-0.926)%\n",
      "For K = 11, validation accuracy is 65.01 (+/-0.866)%\n",
      "For K = 12, validation accuracy is 65.04 (+/-0.849)%\n",
      "For K = 13, validation accuracy is 65.34 (+/-0.787)%\n",
      "For K = 14, validation accuracy is 65.34 (+/-0.756)%\n",
      "For K = 15, validation accuracy is 65.14 (+/-0.825)%\n",
      "For K = 16, validation accuracy is 64.82 (+/-0.792)%\n",
      "For K = 17, validation accuracy is 64.91 (+/-0.832)%\n",
      "For K = 18, validation accuracy is 64.91 (+/-0.826)%\n",
      "For K = 19, validation accuracy is 64.89 (+/-0.748)%\n",
      "For K = 20, validation accuracy is 64.45 (+/-0.839)%\n",
      "For K = 21, validation accuracy is 64.71 (+/-0.776)%\n",
      "For K = 22, validation accuracy is 64.50 (+/-0.942)%\n",
      "For K = 23, validation accuracy is 64.44 (+/-0.755)%\n",
      "For K = 24, validation accuracy is 64.61 (+/-0.804)%\n",
      "For K = 25, validation accuracy is 64.57 (+/-0.654)%\n",
      "For K = 26, validation accuracy is 64.52 (+/-0.694)%\n",
      "For K = 27, validation accuracy is 64.72 (+/-0.525)%\n",
      "For K = 28, validation accuracy is 64.78 (+/-0.531)%\n",
      "For K = 29, validation accuracy is 64.70 (+/-0.674)%\n",
      "For K = 30, validation accuracy is 64.61 (+/-0.515)%\n",
      "For K = 31, validation accuracy is 64.66 (+/-0.686)%\n",
      "For K = 32, validation accuracy is 64.27 (+/-0.628)%\n",
      "For K = 33, validation accuracy is 64.42 (+/-0.760)%\n",
      "For K = 34, validation accuracy is 64.15 (+/-0.649)%\n",
      "For K = 35, validation accuracy is 64.23 (+/-0.635)%\n",
      "For K = 36, validation accuracy is 64.15 (+/-0.743)%\n",
      "For K = 37, validation accuracy is 64.16 (+/-0.587)%\n",
      "For K = 38, validation accuracy is 64.09 (+/-0.622)%\n",
      "For K = 39, validation accuracy is 64.03 (+/-0.640)%\n",
      "For K = 40, validation accuracy is 64.03 (+/-0.774)%\n",
      "For K = 41, validation accuracy is 63.75 (+/-0.631)%\n",
      "For K = 42, validation accuracy is 63.96 (+/-0.710)%\n",
      "For K = 43, validation accuracy is 63.89 (+/-0.691)%\n",
      "For K = 44, validation accuracy is 63.79 (+/-0.761)%\n",
      "For K = 45, validation accuracy is 64.06 (+/-0.744)%\n",
      "For K = 46, validation accuracy is 64.02 (+/-0.652)%\n",
      "For K = 47, validation accuracy is 63.79 (+/-0.687)%\n",
      "For K = 48, validation accuracy is 63.93 (+/-0.724)%\n",
      "For K = 49, validation accuracy is 63.93 (+/-0.810)%\n",
      "For K = 50, validation accuracy is 63.80 (+/-0.756)%\n"
     ]
    }
   ],
   "source": [
    "# Printing results\n",
    "print(\"Cross validation results:\")\n",
    "\n",
    "paramsFolds = clf.cv_results_['params']\n",
    "meanScoreFolds = clf.cv_results_['mean_test_score']\n",
    "stdScoreFolds = clf.cv_results_['std_test_score']\n",
    "\n",
    "for fold in range(K_max):\n",
    "    params = paramsFolds[fold]\n",
    "    mean_score = meanScoreFolds[fold]\n",
    "    std_score = stdScoreFolds[fold]\n",
    "    print(\"For K = %d, validation accuracy is %2.2f (+/-%1.3f)%%\" \n",
    "          % (params['n_neighbors'], 100*mean_score, 100*std_score / 2))\n",
    "\n"
   ]
  },
  {
   "cell_type": "markdown",
   "metadata": {},
   "source": [
    "Examine the fields \".best\\_estimator\\_\" and \".best\\_params\\_\" of the classifier generated by the CV process:\n",
    "* \".best\\_estimator\\_\" contains  the final classifier trained with this select value.\n",
    "* \".best\\_params\\_\" is a dictionary with the selected parameters. In our example, \"best\\_params\\_['n\\_neighbors']\" would provide the selected value of K.\n",
    "\n",
    "Save the selected value of K in variable denoted \"K_opt\" and compute the test error of the final classifier."
   ]
  },
  {
   "cell_type": "code",
   "execution_count": 29,
   "metadata": {},
   "outputs": [
    {
     "name": "stdout",
     "output_type": "stream",
     "text": [
      "The value optimum of K is 14\n"
     ]
    }
   ],
   "source": [
    "###########################################################\n",
    "# TODO: Replace <FILL IN> with appropriate code\n",
    "###########################################################\n",
    "\n",
    "# Assign to K_opt the value of K selected by CV\n",
    "K_opt = clf.best_params_['n_neighbors']# <FILL IN>\n",
    "print(\"The value optimum of K is %d\" %(K_opt))\n",
    "\n"
   ]
  },
  {
   "cell_type": "markdown",
   "metadata": {},
   "source": [
    "Note that you can also compute the test error directly over the classifier object return by the CV process"
   ]
  },
  {
   "cell_type": "code",
   "execution_count": 30,
   "metadata": {},
   "outputs": [
    {
     "name": "stdout",
     "output_type": "stream",
     "text": [
      "The test accuracy is 66.99\n"
     ]
    }
   ],
   "source": [
    "KNN_acc_test = clf.score(X_test, Y_test)\n",
    "print(\"The test accuracy is %2.2f\" %(100*KNN_acc_test))"
   ]
  },
  {
   "cell_type": "markdown",
   "metadata": {},
   "source": [
    "### ** Part 3: SVM**\n",
    "\n",
    "SVM is one of the most well-known classifiers due to its good generalization properties in many different applications. Besides, by means of the kernel trick, its linear formulation can easily extended to a non linear fashion. \n",
    "\n",
    "Here, we will test its performance when different kernel functions are used. For this purpose, we can use the [SCV( )](http://scikit-learn.org/stable/modules/generated/sklearn.svm.SVC.html#sklearn.svm.SVC) method, which let you select the kernel function to be used, and the method GridSearchCV( ) to adjust the different free parameters (C and kernel parameter). \n",
    "\n",
    "Complete the following cells, when it is required, to train in each case a linear SVM (defining kernel='linear' in the method SCV( )), an SVM with gaussian kernel (kernel='rbf') and an SVM with polynomial kernel (kernel='poly'). \n",
    "\n",
    "For each method, adjust the corresponding free parameters with a 10 fold CV process (the ranges to explore are defined at the beginning of each cell). Return the values of selected parameters and the accuracy of the final SVM."
   ]
  },
  {
   "cell_type": "markdown",
   "metadata": {},
   "source": [
    "#### ** SVM with gaussian kernel**"
   ]
  },
  {
   "cell_type": "code",
   "execution_count": 31,
   "metadata": {},
   "outputs": [
    {
     "name": "stdout",
     "output_type": "stream",
     "text": [
      "The C value selected is 100\n",
      "The gamma value selected is 10\n",
      "The test accuracy of the RBF SVM is 67.11\n"
     ]
    }
   ],
   "source": [
    "###########################################################\n",
    "# TODO: Replace <FILL IN> with appropriate code\n",
    "###########################################################\n",
    "from sklearn import svm\n",
    "n_dim=X_train.shape[1]\n",
    "rang_C=np.array([10, 100])\n",
    "rang_gamma=np.array([10, 100])\n",
    "tuned_parameters = [{'C': rang_C, 'gamma': rang_g}]\n",
    "\n",
    "# Train an SVM with gaussian kernel and adjust by CV the parameter C\n",
    "clf_base = svm.SVC(kernel='rbf')\n",
    "selection = np.array([2,9,0,6,4,10,1,7,3])\n",
    "rbf_svc  =  GridSearchCV(clf_base, tuned_parameters, cv = nfold, scoring = 'accuracy')# <FILL IN> \n",
    "rbf_svc.fit(X_train[:,selection],Y_train) # <FILL IN> \n",
    "# Save the values of C and gamma selected and compute the final accuracy\n",
    "C_opt = rbf_svc.best_params_['C']# <FILL IN> \n",
    "g_opt = rbf_svc.best_params_['gamma']# <FILL IN> \n",
    "\n",
    "\n",
    "print(\"The C value selected is \" + str(C_opt))\n",
    "print(\"The gamma value selected is \" + str(g_opt))\n",
    "acc_rbf_svc = rbf_svc.score(X_test[:,selection], Y_test)\n",
    "print(\"The test accuracy of the RBF SVM is %2.2f\" %(100*acc_rbf_svc))"
   ]
  },
  {
   "cell_type": "markdown",
   "metadata": {},
   "source": [
    "#### ** SVM with polynomial kernel**"
   ]
  },
  {
   "cell_type": "code",
   "execution_count": 32,
   "metadata": {},
   "outputs": [
    {
     "name": "stdout",
     "output_type": "stream",
     "text": [
      "The C value selected is 100\n",
      "The degree value selected is 2\n",
      "The test accuracy of the polynomial SVM is 70.72\n"
     ]
    }
   ],
   "source": [
    "###########################################################\n",
    "# TODO: Replace <FILL IN> with appropriate code\n",
    "###########################################################\n",
    "\n",
    "rang_d=np.arange(1,5)\n",
    "tuned_parameters = [{'C': rang_C, 'degree': rang_d}]\n",
    "\n",
    "# Train an SVM with polynomial kernel and adjust by CV the parameter C\n",
    "clf_base =  svm.SVC(kernel='poly')\n",
    "\n",
    "poly_svc  = GridSearchCV(clf_base, tuned_parameters, cv = nfold, scoring = 'accuracy')# <FILL IN> \n",
    "poly_svc.fit(X_train,Y_train)# <FILL IN> \n",
    "\n",
    "# Save the values of C and degree selected and compute the final accuracy\n",
    "C_opt = poly_svc.best_params_['C']# <FILL IN> \n",
    "d_opt = poly_svc.best_params_['degree']# <FILL IN> \n",
    "\n",
    "\n",
    "print(\"The C value selected is \" + str(C_opt))\n",
    "print(\"The degree value selected is \" + str(d_opt))\n",
    "acc_poly_svc = poly_svc.score(X_test, Y_test)\n",
    "print(\"The test accuracy of the polynomial SVM is %2.2f\" %(100*acc_poly_svc))"
   ]
  },
  {
   "cell_type": "markdown",
   "metadata": {},
   "source": [
    "### ** Part 4: Trees**\n",
    "\n",
    "** Training a Random Forest**\n",
    "A Random Forest (RF) trains several decision tree classifiers, where each one is trained with different samples and features of the training data, and averages their outputs to improve the final accuracy.\n",
    "\n",
    "Use the RandomForestClassifier( ) function to train a RF classifier and select by cross validation the number of trees to use. The remaining parameters, such as the number of subsampled data or features, can be used with their default values. Return the optimal number of trees to be used and the final accuracy of the RF classifier.\n"
   ]
  },
  {
   "cell_type": "code",
   "execution_count": 33,
   "metadata": {},
   "outputs": [
    {
     "name": "stdout",
     "output_type": "stream",
     "text": [
      "The number of selected trees is 9\n",
      "The test accuracy of the RF is 81.89\n"
     ]
    }
   ],
   "source": [
    "###########################################################\n",
    "# TODO: Replace <FILL IN> with appropriate code\n",
    "###########################################################\n",
    "\n",
    "from sklearn.ensemble import RandomForestClassifier\n",
    "from sklearn.model_selection import GridSearchCV\n",
    "\n",
    "rang_n_trees=np.arange(1,10)\n",
    "tuned_parameters = [{'n_estimators': rang_n_trees}]\n",
    "nfold = 10\n",
    "\n",
    "clf_RF  = GridSearchCV(RandomForestClassifier(), tuned_parameters, cv = nfold, scoring = 'accuracy')#<FILL IN>\n",
    "clf_RF.fit(X_train, Y_train)\n",
    "n_trees_opt = clf_RF.best_params_['n_estimators']#<FILL IN>\n",
    "acc_RF = clf_RF.score(X_test,Y_test)#<FILL IN>\n",
    "\n",
    "print(\"The number of selected trees is \" + str(n_trees_opt))\n",
    "print(\"The test accuracy of the RF is %2.2f\" %(100*acc_RF))"
   ]
  },
  {
   "cell_type": "markdown",
   "metadata": {},
   "source": [
    "### ** Part 5: Neural Networks**\n",
    "\n"
   ]
  },
  {
   "cell_type": "code",
   "execution_count": 34,
   "metadata": {},
   "outputs": [
    {
     "name": "stdout",
     "output_type": "stream",
     "text": [
      "Epoch 1/20\n",
      "7688/7688 [==============================] - 0s 60us/step - loss: 0.9718 - accuracy: 0.6099\n",
      "Epoch 2/20\n",
      "7688/7688 [==============================] - 0s 39us/step - loss: 0.8346 - accuracy: 0.6712\n",
      "Epoch 3/20\n",
      "7688/7688 [==============================] - 0s 39us/step - loss: 0.7863 - accuracy: 0.6852\n",
      "Epoch 4/20\n",
      "7688/7688 [==============================] - 0s 39us/step - loss: 0.7633 - accuracy: 0.6986\n",
      "Epoch 5/20\n",
      "7688/7688 [==============================] - 0s 42us/step - loss: 0.7448 - accuracy: 0.7029\n",
      "Epoch 6/20\n",
      "7688/7688 [==============================] - 0s 40us/step - loss: 0.7255 - accuracy: 0.7106\n",
      "Epoch 7/20\n",
      "7688/7688 [==============================] - 0s 41us/step - loss: 0.7174 - accuracy: 0.7166\n",
      "Epoch 8/20\n",
      "7688/7688 [==============================] - 0s 42us/step - loss: 0.7020 - accuracy: 0.7274\n",
      "Epoch 9/20\n",
      "7688/7688 [==============================] - 0s 38us/step - loss: 0.6930 - accuracy: 0.7220\n",
      "Epoch 10/20\n",
      "7688/7688 [==============================] - 0s 44us/step - loss: 0.6808 - accuracy: 0.7285\n",
      "Epoch 11/20\n",
      "7688/7688 [==============================] - 0s 38us/step - loss: 0.6709 - accuracy: 0.7344\n",
      "Epoch 12/20\n",
      "7688/7688 [==============================] - 0s 38us/step - loss: 0.6656 - accuracy: 0.7400\n",
      "Epoch 13/20\n",
      "7688/7688 [==============================] - 0s 39us/step - loss: 0.6649 - accuracy: 0.7408\n",
      "Epoch 14/20\n",
      "7688/7688 [==============================] - 0s 40us/step - loss: 0.6602 - accuracy: 0.7409\n",
      "Epoch 15/20\n",
      "7688/7688 [==============================] - 0s 42us/step - loss: 0.6482 - accuracy: 0.7435\n",
      "Epoch 16/20\n",
      "7688/7688 [==============================] - 0s 42us/step - loss: 0.6562 - accuracy: 0.7406\n",
      "Epoch 17/20\n",
      "7688/7688 [==============================] - 0s 41us/step - loss: 0.6456 - accuracy: 0.7496\n",
      "Epoch 18/20\n",
      "7688/7688 [==============================] - 0s 39us/step - loss: 0.6417 - accuracy: 0.7523\n",
      "Epoch 19/20\n",
      "7688/7688 [==============================] - 0s 39us/step - loss: 0.6211 - accuracy: 0.7582\n",
      "Epoch 20/20\n",
      "7688/7688 [==============================] - 0s 47us/step - loss: 0.6187 - accuracy: 0.7543\n",
      "['loss', 'accuracy']\n",
      "[0.7381204352216814, 0.7478762269020081]\n"
     ]
    }
   ],
   "source": [
    "\n",
    "from keras.layers.core import Dense, Activation\n",
    "from keras.models import Sequential\n",
    "from keras.optimizers import Nadam\n",
    "\n",
    "numlabels = len(np.unique(Y_train))\n",
    "labels = np.eye(numlabels)[np.int_(Y_train)]\n",
    "n_epoch = 20\n",
    "batch_size = 16\n",
    "hidden=100\n",
    "\n",
    "Learning_rate=0.01\n",
    "\n",
    "model = Sequential()\n",
    "model.add(Dense(hidden,input_dim=X_train.shape[1],init='lecun_uniform',activation='relu'))\n",
    "model.add(Dense(output_dim=6,init='lecun_uniform'))\n",
    "model.add(Activation('softmax'))\n",
    "decay = Learning_rate/n_epoch\n",
    "nadam = Nadam(lr=Learning_rate)\n",
    "            \n",
    "model.compile(loss='categorical_crossentropy', optimizer=nadam, metrics=['accuracy'])\n",
    "model.fit(X_train, labels, nb_epoch=n_epoch, shuffle=True, batch_size=batch_size)\n",
    "\n",
    "scores = model.evaluate(X_test,  np.eye(numlabels)[np.int_(Y_test)], verbose=0)\n",
    "print(model.metrics_names)\n",
    "print(scores)\n"
   ]
  },
  {
   "cell_type": "code",
   "execution_count": null,
   "metadata": {},
   "outputs": [],
   "source": []
  }
 ],
 "metadata": {
  "kernelspec": {
   "display_name": "Python 3",
   "language": "python",
   "name": "python3"
  },
  "language_info": {
   "codemirror_mode": {
    "name": "ipython",
    "version": 3
   },
   "file_extension": ".py",
   "mimetype": "text/x-python",
   "name": "python",
   "nbconvert_exporter": "python",
   "pygments_lexer": "ipython3",
   "version": "3.6.9"
  }
 },
 "nbformat": 4,
 "nbformat_minor": 1
}
